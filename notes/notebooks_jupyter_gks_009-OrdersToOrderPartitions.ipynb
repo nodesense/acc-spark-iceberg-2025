{
 "cells": [
  {
   "cell_type": "code",
   "execution_count": 1,
   "id": "651604bb-8ae1-485e-aa11-e05f19eb25e3",
   "metadata": {
    "tags": []
   },
   "outputs": [
    {
     "name": "stderr",
     "output_type": "stream",
     "text": [
      "Setting default log level to \"WARN\".\n",
      "To adjust logging level use sc.setLogLevel(newLevel). For SparkR, use setLogLevel(newLevel).\n",
      "25/02/06 09:50:19 INFO SparkEnv: Registering MapOutputTracker\n",
      "25/02/06 09:50:19 INFO SparkEnv: Registering BlockManagerMaster\n",
      "25/02/06 09:50:19 INFO SparkEnv: Registering BlockManagerMasterHeartbeat\n",
      "25/02/06 09:50:19 INFO SparkEnv: Registering OutputCommitCoordinator\n"
     ]
    }
   ],
   "source": [
    "from pyspark.sql import SparkSession\n",
    " \n",
    "spark = SparkSession.builder \\\n",
    "    .appName(\"GKSOrderToParttitions\") \\\n",
    "    .master(\"yarn\") \\\n",
    "    .config(\"spark.submit.deployMode\", \"client\") \\\n",
    "    .config(\"spark.executor.instances\", \"1\") \\\n",
    "    .config(\"spark.executor.cores\", \"2\") \\\n",
    "    .config(\"spark.executor.memory\", \"8g\") \\\n",
    "    .getOrCreate()"
   ]
  },
  {
   "cell_type": "code",
   "execution_count": 3,
   "id": "0f992ab1-1ad0-45a9-83e0-a41540e9b83d",
   "metadata": {
    "tags": []
   },
   "outputs": [],
   "source": [
    "from pyspark.sql.functions import col, year, month, dayofmonth\n"
   ]
  },
  {
   "cell_type": "code",
   "execution_count": null,
   "id": "d6c6bc60-c3b5-4c5e-817a-c02ff1216b63",
   "metadata": {
    "tags": []
   },
   "outputs": [],
   "source": [
    "\n",
    "# GCS Bucket and File Paths\n",
    "input_path = \"gs://tpch-source/orders/\"  # Replace with your actual bucket path\n",
    "output_path = \"gs://tpch-source/orders-partittions/\"\n"
   ]
  },
  {
   "cell_type": "code",
   "execution_count": 5,
   "id": "5c4c2ab3-eb8e-49c1-b6da-979087a55dc1",
   "metadata": {
    "tags": []
   },
   "outputs": [
    {
     "name": "stderr",
     "output_type": "stream",
     "text": [
      "[Stage 2:====================================================>    (11 + 1) / 12]\r"
     ]
    },
    {
     "name": "stdout",
     "output_type": "stream",
     "text": [
      "root\n",
      " |-- o_orderkey: integer (nullable = true)\n",
      " |-- o_custkey: integer (nullable = true)\n",
      " |-- o_orderstatus: string (nullable = true)\n",
      " |-- o_totalprice: double (nullable = true)\n",
      " |-- o_orderdate: date (nullable = true)\n",
      " |-- o_orderpriority: string (nullable = true)\n",
      " |-- o_clerk: string (nullable = true)\n",
      " |-- o_shippriority: integer (nullable = true)\n",
      " |-- o_comment: string (nullable = true)\n",
      "\n"
     ]
    },
    {
     "name": "stderr",
     "output_type": "stream",
     "text": [
      "                                                                                \r"
     ]
    }
   ],
   "source": [
    "\n",
    "# Read the CSV file from GCS (ensure header is considered)\n",
    "df = spark.read.option(\"header\", \"true\").option(\"inferSchema\", \"true\").csv(input_path)\n",
    "\n",
    "df.printSchema()\n",
    "df.show(2)"
   ]
  },
  {
   "cell_type": "code",
   "execution_count": 6,
   "id": "3163318a-fb1d-4267-ac7f-5b7870fd4bfb",
   "metadata": {
    "tags": []
   },
   "outputs": [
    {
     "name": "stdout",
     "output_type": "stream",
     "text": [
      "root\n",
      " |-- o_orderkey: integer (nullable = true)\n",
      " |-- o_custkey: integer (nullable = true)\n",
      " |-- o_orderstatus: string (nullable = true)\n",
      " |-- o_totalprice: double (nullable = true)\n",
      " |-- o_orderdate: date (nullable = true)\n",
      " |-- o_orderpriority: string (nullable = true)\n",
      " |-- o_clerk: string (nullable = true)\n",
      " |-- o_shippriority: integer (nullable = true)\n",
      " |-- o_comment: string (nullable = true)\n",
      "\n",
      "+----------+---------+-------------+------------+-----------+---------------+---------------+--------------+--------------------+\n",
      "|o_orderkey|o_custkey|o_orderstatus|o_totalprice|o_orderdate|o_orderpriority|        o_clerk|o_shippriority|           o_comment|\n",
      "+----------+---------+-------------+------------+-----------+---------------+---------------+--------------+--------------------+\n",
      "|  18728327|   420898|            F|   130172.09| 1994-01-20|       1-URGENT|Clerk#000000726|             0| final packages afte|\n",
      "|  18728352|    18241|            O|    61088.33| 1997-08-12|         2-HIGH|Clerk#000000262|             0|ackages wake arou...|\n",
      "+----------+---------+-------------+------------+-----------+---------------+---------------+--------------+--------------------+\n",
      "only showing top 2 rows\n",
      "\n"
     ]
    }
   ],
   "source": [
    "# Convert o_orderdate to DateType (assuming it's in 'yyyy-MM-dd' format)\n",
    "df = df.withColumn(\"o_orderdate\", col(\"o_orderdate\").cast(\"date\"))\n",
    "df.printSchema()\n",
    "df.show(2)"
   ]
  },
  {
   "cell_type": "code",
   "execution_count": 7,
   "id": "6c95b8c9-d003-409c-aa94-1f43e398a59f",
   "metadata": {
    "tags": []
   },
   "outputs": [
    {
     "name": "stdout",
     "output_type": "stream",
     "text": [
      "root\n",
      " |-- o_orderkey: integer (nullable = true)\n",
      " |-- o_custkey: integer (nullable = true)\n",
      " |-- o_orderstatus: string (nullable = true)\n",
      " |-- o_totalprice: double (nullable = true)\n",
      " |-- o_orderdate: date (nullable = true)\n",
      " |-- o_orderpriority: string (nullable = true)\n",
      " |-- o_clerk: string (nullable = true)\n",
      " |-- o_shippriority: integer (nullable = true)\n",
      " |-- o_comment: string (nullable = true)\n",
      " |-- year: integer (nullable = true)\n",
      " |-- month: integer (nullable = true)\n",
      " |-- day: integer (nullable = true)\n",
      "\n",
      "+----------+---------+-------------+------------+-----------+---------------+---------------+--------------+--------------------+----+-----+---+\n",
      "|o_orderkey|o_custkey|o_orderstatus|o_totalprice|o_orderdate|o_orderpriority|        o_clerk|o_shippriority|           o_comment|year|month|day|\n",
      "+----------+---------+-------------+------------+-----------+---------------+---------------+--------------+--------------------+----+-----+---+\n",
      "|  18728327|   420898|            F|   130172.09| 1994-01-20|       1-URGENT|Clerk#000000726|             0| final packages afte|1994|    1| 20|\n",
      "|  18728352|    18241|            O|    61088.33| 1997-08-12|         2-HIGH|Clerk#000000262|             0|ackages wake arou...|1997|    8| 12|\n",
      "+----------+---------+-------------+------------+-----------+---------------+---------------+--------------+--------------------+----+-----+---+\n",
      "only showing top 2 rows\n",
      "\n"
     ]
    }
   ],
   "source": [
    "\n",
    "# Add year, month, and day columns for partitioning\n",
    "df = df.withColumn(\"year\", year(col(\"o_orderdate\"))) \\\n",
    "       .withColumn(\"month\", month(col(\"o_orderdate\"))) \\\n",
    "       .withColumn(\"day\", dayofmonth(col(\"o_orderdate\")))\n",
    "\n",
    "df.printSchema()\n",
    "df.show(2)"
   ]
  },
  {
   "cell_type": "code",
   "execution_count": 8,
   "id": "65625fe7-9c84-4034-957f-1a3864924f3c",
   "metadata": {
    "tags": []
   },
   "outputs": [
    {
     "name": "stdout",
     "output_type": "stream",
     "text": [
      "root\n",
      " |-- o_orderkey: integer (nullable = true)\n",
      " |-- o_custkey: integer (nullable = true)\n",
      " |-- o_orderstatus: string (nullable = true)\n",
      " |-- o_totalprice: double (nullable = true)\n",
      " |-- o_orderdate: date (nullable = true)\n",
      " |-- o_orderpriority: string (nullable = true)\n",
      " |-- o_clerk: string (nullable = true)\n",
      " |-- o_shippriority: integer (nullable = true)\n",
      " |-- o_comment: string (nullable = true)\n",
      " |-- year: integer (nullable = true)\n",
      " |-- month: integer (nullable = true)\n",
      " |-- day: integer (nullable = true)\n",
      "\n",
      "+----------+---------+-------------+------------+-----------+---------------+---------------+--------------+--------------------+----+-----+---+\n",
      "|o_orderkey|o_custkey|o_orderstatus|o_totalprice|o_orderdate|o_orderpriority|        o_clerk|o_shippriority|           o_comment|year|month|day|\n",
      "+----------+---------+-------------+------------+-----------+---------------+---------------+--------------+--------------------+----+-----+---+\n",
      "|  18728327|   420898|            F|   130172.09| 1994-01-20|       1-URGENT|Clerk#000000726|             0| final packages afte|1994|    1| 20|\n",
      "|  18728352|    18241|            O|    61088.33| 1997-08-12|         2-HIGH|Clerk#000000262|             0|ackages wake arou...|1997|    8| 12|\n",
      "+----------+---------+-------------+------------+-----------+---------------+---------------+--------------+--------------------+----+-----+---+\n",
      "only showing top 2 rows\n",
      "\n"
     ]
    }
   ],
   "source": [
    "\n",
    "# Sort data by o_orderdate in ascending order\n",
    "df_sorted = df.orderBy(col(\"o_orderdate\").asc())\n",
    "df.printSchema()\n",
    "df.show(2)"
   ]
  },
  {
   "cell_type": "code",
   "execution_count": 9,
   "id": "f5f84013-c781-4dde-b02a-3f56d8d01657",
   "metadata": {
    "tags": []
   },
   "outputs": [
    {
     "name": "stderr",
     "output_type": "stream",
     "text": [
      "                                                                                \r"
     ]
    },
    {
     "name": "stdout",
     "output_type": "stream",
     "text": [
      "Partitioned CSV data written to gs://tpch-source/orders-partittions/\n"
     ]
    }
   ],
   "source": [
    "\n",
    "# Write the partitioned output as CSV with headers\n",
    "df_sorted.write \\\n",
    "    .option(\"header\", \"true\") \\\n",
    "    .mode(\"overwrite\") \\\n",
    "    .partitionBy(\"year\", \"month\", \"day\") \\\n",
    "    .csv(output_path)\n",
    "\n",
    "print(f\"Partitioned CSV data written to {output_path}\")"
   ]
  },
  {
   "cell_type": "code",
   "execution_count": null,
   "id": "63a82a66-72b4-45f6-beb8-095fb48fdfa3",
   "metadata": {
    "tags": []
   },
   "outputs": [],
   "source": [
    " spark.stop()"
   ]
  },
  {
   "cell_type": "code",
   "execution_count": null,
   "id": "5a3dda67-d34e-429a-b7b8-a8d056545218",
   "metadata": {},
   "outputs": [],
   "source": []
  }
 ],
 "metadata": {
  "kernelspec": {
   "display_name": "Python 3",
   "language": "python",
   "name": "python3"
  },
  "language_info": {
   "codemirror_mode": {
    "name": "ipython",
    "version": 3
   },
   "file_extension": ".py",
   "mimetype": "text/x-python",
   "name": "python",
   "nbconvert_exporter": "python",
   "pygments_lexer": "ipython3",
   "version": "3.11.8"
  }
 },
 "nbformat": 4,
 "nbformat_minor": 5
}
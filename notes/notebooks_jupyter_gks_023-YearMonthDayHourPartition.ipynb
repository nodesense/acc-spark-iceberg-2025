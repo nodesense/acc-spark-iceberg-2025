{
 "cells": [
  {
   "cell_type": "code",
   "execution_count": 1,
   "id": "243e7366-b23f-4f8a-83cc-aa98dbc4e884",
   "metadata": {
    "tags": []
   },
   "outputs": [
    {
     "name": "stderr",
     "output_type": "stream",
     "text": [
      "Setting default log level to \"WARN\".\n",
      "To adjust logging level use sc.setLogLevel(newLevel). For SparkR, use setLogLevel(newLevel).\n",
      "25/02/07 02:01:30 INFO SparkEnv: Registering MapOutputTracker\n",
      "25/02/07 02:01:30 INFO SparkEnv: Registering BlockManagerMaster\n",
      "25/02/07 02:01:30 INFO SparkEnv: Registering BlockManagerMasterHeartbeat\n",
      "25/02/07 02:01:30 INFO SparkEnv: Registering OutputCommitCoordinator\n"
     ]
    }
   ],
   "source": [
    "from pyspark.sql import SparkSession\n",
    "from pyspark.sql.functions import col, window, count, avg, sum, to_date, to_timestamp\n",
    "\n",
    "# Initialize Spark Session\n",
    "spark = SparkSession.builder \\\n",
    "    .appName(\"YearMonthDayHourPartition\") \\\n",
    "    .master(\"yarn\") \\\n",
    "    .config(\"spark.submit.deployMode\", \"client\") \\\n",
    "    .config(\"spark.sql.shuffle.partitions\", \"4\") \\\n",
    "    .config(\"spark.sql.catalog.iceberg\", \"org.apache.iceberg.spark.SparkCatalog\")\\\n",
    "    .config(\"spark.sql.catalog.iceberg.type\", \"hadoop\")\\\n",
    "    .config(\"spark.sql.catalog.iceberg.warehouse\", \"gs://gks-tpch/iceberg_warehouse\")\\\n",
    "    .getOrCreate()"
   ]
  },
  {
   "cell_type": "code",
   "execution_count": 3,
   "id": "ecd88351-482b-467f-8b83-433d94b4aaac",
   "metadata": {
    "tags": []
   },
   "outputs": [
    {
     "data": {
      "text/plain": [
       "DataFrame[]"
      ]
     },
     "execution_count": 3,
     "metadata": {},
     "output_type": "execute_result"
    }
   ],
   "source": [
    "# Partitions data by sale_date and sale_time, allowing efficient time-based queries.\n",
    "# Supports fast filtering by year, month, day, and even hour for detailed analytics.\n",
    "\n",
    "spark.sql(\"\"\"\n",
    "CREATE TABLE iceberg.partdemo.sales (\n",
    "    sale_id BIGINT,\n",
    "    customer_id BIGINT,\n",
    "    sale_date DATE,\n",
    "    sale_time TIMESTAMP,\n",
    "    product STRING,\n",
    "    amount DOUBLE\n",
    ") USING iceberg\n",
    "PARTITIONED BY (DAY(sale_date), HOUR(sale_time));\n",
    "\"\"\")\n"
   ]
  },
  {
   "cell_type": "code",
   "execution_count": 4,
   "id": "495ae644-b8e3-4618-9fc3-2737e4d1794a",
   "metadata": {
    "tags": []
   },
   "outputs": [
    {
     "name": "stderr",
     "output_type": "stream",
     "text": [
      "                                                                                \r"
     ]
    },
    {
     "data": {
      "text/plain": [
       "DataFrame[]"
      ]
     },
     "execution_count": 4,
     "metadata": {},
     "output_type": "execute_result"
    }
   ],
   "source": [
    "spark.sql(\"\"\"\n",
    "INSERT INTO iceberg.partdemo.sales VALUES\n",
    "(1, 101, CAST('2024-01-10' AS DATE), CAST('2024-01-10 10:30:00' AS TIMESTAMP), 'Laptop', 1200.50),\n",
    "(2, 102, CAST('2024-02-15' AS DATE), CAST('2024-02-15 14:45:00' AS TIMESTAMP), 'Smartphone', 800.00),\n",
    "(3, 103, CAST('2024-03-20' AS DATE), CAST('2024-03-20 09:15:00' AS TIMESTAMP), 'Headphones', 150.75),\n",
    "(4, 104, CAST('2024-04-05' AS DATE), CAST('2024-04-05 20:00:00' AS TIMESTAMP), 'Tablet', 300.99);\n",
    "\"\"\")\n"
   ]
  },
  {
   "cell_type": "code",
   "execution_count": 5,
   "id": "e099fa3b-bfcf-4338-9afa-ced51f2aeb54",
   "metadata": {
    "tags": []
   },
   "outputs": [
    {
     "name": "stderr",
     "output_type": "stream",
     "text": [
      "                                                                                \r"
     ]
    },
    {
     "name": "stdout",
     "output_type": "stream",
     "text": [
      "+-------+-----------+----------+-------------------+----------+------+\n",
      "|sale_id|customer_id| sale_date|          sale_time|   product|amount|\n",
      "+-------+-----------+----------+-------------------+----------+------+\n",
      "|      2|        102|2024-02-15|2024-02-15 14:45:00|Smartphone| 800.0|\n",
      "+-------+-----------+----------+-------------------+----------+------+\n",
      "\n"
     ]
    }
   ],
   "source": [
    "# Get Sales for a Specific Day\n",
    "spark.sql(\"\"\"\n",
    "SELECT * FROM iceberg.partdemo.sales WHERE sale_date = CAST('2024-02-15' AS DATE);\n",
    "\"\"\").show()"
   ]
  },
  {
   "cell_type": "code",
   "execution_count": 6,
   "id": "589d3dfc-63f5-4820-a634-a5650bddc3ca",
   "metadata": {
    "tags": []
   },
   "outputs": [
    {
     "name": "stderr",
     "output_type": "stream",
     "text": [
      "[Stage 4:>                                                          (0 + 1) / 1]\r"
     ]
    },
    {
     "name": "stdout",
     "output_type": "stream",
     "text": [
      "+-------+-----------+----------+-------------------+-------+------+\n",
      "|sale_id|customer_id| sale_date|          sale_time|product|amount|\n",
      "+-------+-----------+----------+-------------------+-------+------+\n",
      "|      1|        101|2024-01-10|2024-01-10 10:30:00| Laptop|1200.5|\n",
      "+-------+-----------+----------+-------------------+-------+------+\n",
      "\n"
     ]
    },
    {
     "name": "stderr",
     "output_type": "stream",
     "text": [
      "                                                                                \r"
     ]
    }
   ],
   "source": [
    "# Retrieves sales made between 10:00 - 10:59 AM.\n",
    "\n",
    "spark.sql(\"\"\"\n",
    "SELECT * FROM iceberg.partdemo.sales WHERE HOUR(sale_time) = 10;\n",
    "\"\"\").show()"
   ]
  },
  {
   "cell_type": "code",
   "execution_count": 8,
   "id": "11b4619a-0161-4432-9801-9d6165186bf7",
   "metadata": {
    "tags": []
   },
   "outputs": [
    {
     "name": "stdout",
     "output_type": "stream",
     "text": [
      "+--------------------+--------------------+\n",
      "|           partition|           file_path|\n",
      "+--------------------+--------------------+\n",
      "|{2024-01-10, 473578}|gs://gks-tpch/ice...|\n",
      "|{2024-04-05, 475652}|gs://gks-tpch/ice...|\n",
      "|{2024-03-20, 475257}|gs://gks-tpch/ice...|\n",
      "|{2024-02-15, 474446}|gs://gks-tpch/ice...|\n",
      "+--------------------+--------------------+\n",
      "\n"
     ]
    }
   ],
   "source": [
    "\"\"\"\n",
    "{2024-01-10, 473578} - 473578 represent hour in seconds format\n",
    "The number 473578, 475652, etc. corresponds to the number of seconds since midnight (00:00:00 UTC) on that day.\n",
    "\"\"\"\n",
    "spark.sql(\"\"\"\n",
    "SELECT partition, file_path FROM iceberg.partdemo.sales.files;\n",
    "\"\"\").show()"
   ]
  },
  {
   "cell_type": "code",
   "execution_count": 9,
   "id": "a41ffcb6-d083-460c-8882-b92ed9585e65",
   "metadata": {
    "tags": []
   },
   "outputs": [
    {
     "data": {
      "text/plain": [
       "DataFrame[]"
      ]
     },
     "execution_count": 9,
     "metadata": {},
     "output_type": "execute_result"
    }
   ],
   "source": [
    "spark.sql(\"\"\"\n",
    "UPDATE iceberg.partdemo.sales \n",
    "SET sale_date = CAST('2024-05-01' AS DATE), sale_time = CAST('2024-05-01 08:00:00' AS TIMESTAMP)\n",
    "WHERE sale_id = 1;\n",
    "\"\"\")"
   ]
  },
  {
   "cell_type": "code",
   "execution_count": 10,
   "id": "543c5e21-455a-4590-9b76-ac6301d10f9d",
   "metadata": {
    "tags": []
   },
   "outputs": [
    {
     "data": {
      "text/plain": [
       "DataFrame[]"
      ]
     },
     "execution_count": 10,
     "metadata": {},
     "output_type": "execute_result"
    }
   ],
   "source": [
    "spark.sql(\"\"\"\n",
    "DELETE FROM iceberg.partdemo.sales WHERE sale_date = CAST('2024-02-15' AS DATE);\n",
    "\"\"\")"
   ]
  },
  {
   "cell_type": "code",
   "execution_count": 12,
   "id": "607ffd6e-79d4-40d7-b904-19134177ae14",
   "metadata": {
    "tags": []
   },
   "outputs": [
    {
     "name": "stdout",
     "output_type": "stream",
     "text": [
      "+--------------------+-------------------+-------------------+-------------------+\n",
      "|     made_current_at|        snapshot_id|          parent_id|is_current_ancestor|\n",
      "+--------------------+-------------------+-------------------+-------------------+\n",
      "|2025-02-07 02:05:...|7121681092154638402|               NULL|               true|\n",
      "|2025-02-07 02:07:...|3076000011733852005|7121681092154638402|               true|\n",
      "|2025-02-07 02:07:...|7213889487843157847|3076000011733852005|               true|\n",
      "+--------------------+-------------------+-------------------+-------------------+\n",
      "\n"
     ]
    }
   ],
   "source": [
    "spark.sql(\"\"\"\n",
    "SELECT * FROM iceberg.partdemo.sales.history;\n",
    "\"\"\").show()"
   ]
  },
  {
   "cell_type": "code",
   "execution_count": 13,
   "id": "1c8ed19b-515c-405c-9853-eb6f11b1deb7",
   "metadata": {
    "tags": []
   },
   "outputs": [
    {
     "data": {
      "text/plain": [
       "DataFrame[previous_snapshot_id: bigint, current_snapshot_id: bigint]"
      ]
     },
     "execution_count": 13,
     "metadata": {},
     "output_type": "execute_result"
    }
   ],
   "source": [
    "spark.sql(\"\"\"\n",
    "CALL iceberg.system.rollback_to_snapshot('iceberg.partdemo.sales', 3076000011733852005)\n",
    "\"\"\")"
   ]
  },
  {
   "cell_type": "code",
   "execution_count": 14,
   "id": "e9875b9c-6a7a-4a69-a9f3-8b7e29654d20",
   "metadata": {
    "tags": []
   },
   "outputs": [
    {
     "name": "stderr",
     "output_type": "stream",
     "text": [
      "[Stage 13:>                                                         (0 + 1) / 1]\r"
     ]
    },
    {
     "name": "stdout",
     "output_type": "stream",
     "text": [
      "+-------+-----------+----------+-------------------+----------+------+\n",
      "|sale_id|customer_id| sale_date|          sale_time|   product|amount|\n",
      "+-------+-----------+----------+-------------------+----------+------+\n",
      "|      4|        104|2024-04-05|2024-04-05 20:00:00|    Tablet|300.99|\n",
      "|      3|        103|2024-03-20|2024-03-20 09:15:00|Headphones|150.75|\n",
      "|      2|        102|2024-02-15|2024-02-15 14:45:00|Smartphone| 800.0|\n",
      "|      1|        101|2024-05-01|2024-05-01 08:00:00|    Laptop|1200.5|\n",
      "+-------+-----------+----------+-------------------+----------+------+\n",
      "\n"
     ]
    },
    {
     "name": "stderr",
     "output_type": "stream",
     "text": [
      "                                                                                \r"
     ]
    }
   ],
   "source": [
    "spark.sql(\"\"\"\n",
    "SELECT * FROM iceberg.partdemo.sales;\n",
    "\"\"\").show()"
   ]
  },
  {
   "cell_type": "code",
   "execution_count": null,
   "id": "93fbe9d2-dfdd-4d34-8fe9-0aea235becb0",
   "metadata": {},
   "outputs": [],
   "source": []
  }
 ],
 "metadata": {
  "kernelspec": {
   "display_name": "Python 3",
   "language": "python",
   "name": "python3"
  },
  "language_info": {
   "codemirror_mode": {
    "name": "ipython",
    "version": 3
   },
   "file_extension": ".py",
   "mimetype": "text/x-python",
   "name": "python",
   "nbconvert_exporter": "python",
   "pygments_lexer": "ipython3",
   "version": "3.11.8"
  }
 },
 "nbformat": 4,
 "nbformat_minor": 5
}
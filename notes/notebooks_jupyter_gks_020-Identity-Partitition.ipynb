{
 "cells": [
  {
   "cell_type": "code",
   "execution_count": 9,
   "id": "a06fd6c8-4960-425b-b653-844fc4516a6e",
   "metadata": {
    "tags": []
   },
   "outputs": [
    {
     "name": "stderr",
     "output_type": "stream",
     "text": [
      "25/02/07 01:24:07 WARN SparkSession: Using an existing Spark session; only runtime SQL configurations will take effect.\n"
     ]
    }
   ],
   "source": [
    "from pyspark.sql import SparkSession\n",
    "from pyspark.sql.functions import col, window, count, avg, sum, to_date, to_timestamp\n",
    "\n",
    "# Initialize Spark Session\n",
    "spark = SparkSession.builder \\\n",
    "    .appName(\"IdenityPartition\") \\\n",
    "    .master(\"yarn\") \\\n",
    "    .config(\"spark.submit.deployMode\", \"client\") \\\n",
    "    .config(\"spark.sql.shuffle.partitions\", \"4\") \\\n",
    "    .config(\"spark.sql.catalog.iceberg\", \"org.apache.iceberg.spark.SparkCatalog\")\\\n",
    "    .config(\"spark.sql.catalog.iceberg.type\", \"hadoop\")\\\n",
    "    .config(\"spark.sql.catalog.iceberg.warehouse\", \"gs://gks-tpch/iceberg_warehouse\")\\\n",
    "    .getOrCreate()"
   ]
  },
  {
   "cell_type": "code",
   "execution_count": null,
   "id": "658e1972-00f3-424f-b352-ab193be99a02",
   "metadata": {},
   "outputs": [],
   "source": [
    "\"\"\"\n",
    "Hidden Partitioning: Iceberg does not use physical partitions, so changing a partition column’s value does not require physically moving data.\n",
    "Partition Evolution Support: Iceberg dynamically manages partition mappings in metadata.\n",
    "Query Optimization Stays Intact: The query planner will still use partition pruning efficiently.\n",
    "\"\"\""
   ]
  },
  {
   "cell_type": "code",
   "execution_count": 12,
   "id": "4d658604-92a2-4e8e-9eb1-82b83893d015",
   "metadata": {
    "tags": []
   },
   "outputs": [],
   "source": [
    "spark.sql(\"CREATE DATABASE IF NOT EXISTS iceberg.partdemo\");"
   ]
  },
  {
   "cell_type": "code",
   "execution_count": 13,
   "id": "4cde0bfc-aeb6-4414-a4dc-16e7e79857c3",
   "metadata": {
    "tags": []
   },
   "outputs": [
    {
     "name": "stdout",
     "output_type": "stream",
     "text": [
      "+---------+\n",
      "|namespace|\n",
      "+---------+\n",
      "|     tpch|\n",
      "| partdemo|\n",
      "|movielens|\n",
      "+---------+\n",
      "\n"
     ]
    }
   ],
   "source": [
    "spark.sql(\"SHOW DATABASES in iceberg\").show()"
   ]
  },
  {
   "cell_type": "code",
   "execution_count": 16,
   "id": "38325557-3446-4172-92d5-784817272699",
   "metadata": {
    "tags": []
   },
   "outputs": [
    {
     "data": {
      "text/plain": [
       "DataFrame[]"
      ]
     },
     "execution_count": 16,
     "metadata": {},
     "output_type": "execute_result"
    }
   ],
   "source": [
    "spark.sql(\"\"\"\n",
    "CREATE TABLE IF NOT EXISTS iceberg.partdemo.orders (\n",
    "    order_id BIGINT,\n",
    "    customer_id BIGINT,\n",
    "    order_status STRING,\n",
    "    total_price DOUBLE,\n",
    "    order_date DATE,\n",
    "    region STRING\n",
    ") USING iceberg\n",
    "PARTITIONED BY (region);\n",
    "\"\"\")"
   ]
  },
  {
   "cell_type": "code",
   "execution_count": 18,
   "id": "0ace09f4-1e22-4869-94f1-9a9a2b3df388",
   "metadata": {
    "tags": []
   },
   "outputs": [
    {
     "name": "stderr",
     "output_type": "stream",
     "text": [
      "                                                                                \r"
     ]
    },
    {
     "data": {
      "text/plain": [
       "DataFrame[]"
      ]
     },
     "execution_count": 18,
     "metadata": {},
     "output_type": "execute_result"
    }
   ],
   "source": [
    "spark.sql(\"\"\"\n",
    "INSERT INTO iceberg.partdemo.orders \n",
    "SELECT 1, 101, 'Shipped', 250.75, CAST('2024-01-01' AS DATE), 'North'\n",
    "UNION ALL\n",
    "SELECT 2, 102, 'Pending', 100.50, CAST('2024-01-02' AS DATE), 'South'\n",
    "UNION ALL\n",
    "SELECT 3, 103, 'Cancelled', 300.00, CAST('2024-01-03' AS DATE), 'East'\n",
    "UNION ALL\n",
    "SELECT 4, 104, 'Shipped', 175.20, CAST('2024-01-04' AS DATE), 'West'\n",
    "\"\"\")"
   ]
  },
  {
   "cell_type": "code",
   "execution_count": 21,
   "id": "d444f0b7-1592-45c5-b6b4-c29f082d4b71",
   "metadata": {
    "tags": []
   },
   "outputs": [
    {
     "name": "stdout",
     "output_type": "stream",
     "text": [
      "+--------------------+---------+-------+\n",
      "|            col_name|data_type|comment|\n",
      "+--------------------+---------+-------+\n",
      "|            order_id|   bigint|   NULL|\n",
      "|         customer_id|   bigint|   NULL|\n",
      "|        order_status|   string|   NULL|\n",
      "|         total_price|   double|   NULL|\n",
      "|          order_date|     date|   NULL|\n",
      "|              region|   string|   NULL|\n",
      "|# Partition Infor...|         |       |\n",
      "|          # col_name|data_type|comment|\n",
      "|              region|   string|   NULL|\n",
      "+--------------------+---------+-------+\n",
      "\n"
     ]
    }
   ],
   "source": [
    "spark.sql(\"DESCRIBE TABLE iceberg.partdemo.orders\").show()"
   ]
  },
  {
   "cell_type": "code",
   "execution_count": 22,
   "id": "d855eb21-59d2-447a-b2a6-439e0481323d",
   "metadata": {
    "tags": []
   },
   "outputs": [
    {
     "name": "stderr",
     "output_type": "stream",
     "text": [
      "[Stage 70:>                                                         (0 + 1) / 1]\r"
     ]
    },
    {
     "name": "stdout",
     "output_type": "stream",
     "text": [
      "+-------+---------------------------------------------------------------------------------------------------------------------------------+-----------+-------+---------+------------+------------------+------------------------------------------------------+------------------------------------------------+------------------------------------------------+----------------+---------------------------------------------------------------------------------------------------------------------------------------------------------------------------+---------------------------------------------------------------------------------------------------------------------------------------------------------------------------+------------+-------------+------------+-------------+-------------------------------------------------------------------------------------------------------------------------------------------------------------------------------------------------+\n",
      "|content|file_path                                                                                                                        |file_format|spec_id|partition|record_count|file_size_in_bytes|column_sizes                                          |value_counts                                    |null_value_counts                               |nan_value_counts|lower_bounds                                                                                                                                                               |upper_bounds                                                                                                                                                               |key_metadata|split_offsets|equality_ids|sort_order_id|readable_metrics                                                                                                                                                                                 |\n",
      "+-------+---------------------------------------------------------------------------------------------------------------------------------+-----------+-------+---------+------------+------------------+------------------------------------------------------+------------------------------------------------+------------------------------------------------+----------------+---------------------------------------------------------------------------------------------------------------------------------------------------------------------------+---------------------------------------------------------------------------------------------------------------------------------------------------------------------------+------------+-------------+------------+-------------+-------------------------------------------------------------------------------------------------------------------------------------------------------------------------------------------------+\n",
      "|0      |gs://gks-tpch/iceberg_warehouse/partdemo/orders/data/region=West/00000-1600-cd7b46c1-8fbd-4d5c-84c4-1eae5bde9795-0-00004.parquet |PARQUET    |0      |{West}   |1           |1716              |{1 -> 40, 2 -> 39, 3 -> 43, 4 -> 40, 5 -> 36, 6 -> 40}|{1 -> 1, 2 -> 1, 3 -> 1, 4 -> 1, 5 -> 1, 6 -> 1}|{1 -> 0, 2 -> 0, 3 -> 0, 4 -> 0, 5 -> 0, 6 -> 0}|{4 -> 0}        |{1 -> [04 00 00 00 00 00 00 00], 2 -> [68 00 00 00 00 00 00 00], 3 -> [53 68 69 70 70 65 64], 4 -> [66 66 66 66 66 E6 65 40], 5 -> [0E 4D 00 00], 6 -> [57 65 73 74]}      |{1 -> [04 00 00 00 00 00 00 00], 2 -> [68 00 00 00 00 00 00 00], 3 -> [53 68 69 70 70 65 64], 4 -> [66 66 66 66 66 E6 65 40], 5 -> [0E 4D 00 00], 6 -> [57 65 73 74]}      |NULL        |[4]          |NULL        |0            |{{39, 1, 0, NULL, 104, 104}, {36, 1, 0, NULL, 2024-01-04, 2024-01-04}, {40, 1, 0, NULL, 4, 4}, {43, 1, 0, NULL, Shipped, Shipped}, {40, 1, 0, NULL, West, West}, {40, 1, 0, 0, 175.2, 175.2}}    |\n",
      "|0      |gs://gks-tpch/iceberg_warehouse/partdemo/orders/data/region=South/00000-1600-cd7b46c1-8fbd-4d5c-84c4-1eae5bde9795-0-00002.parquet|PARQUET    |0      |{South}  |1           |1724              |{1 -> 40, 2 -> 40, 3 -> 43, 4 -> 40, 5 -> 36, 6 -> 41}|{1 -> 1, 2 -> 1, 3 -> 1, 4 -> 1, 5 -> 1, 6 -> 1}|{1 -> 0, 2 -> 0, 3 -> 0, 4 -> 0, 5 -> 0, 6 -> 0}|{4 -> 0}        |{1 -> [02 00 00 00 00 00 00 00], 2 -> [66 00 00 00 00 00 00 00], 3 -> [50 65 6E 64 69 6E 67], 4 -> [00 00 00 00 00 20 59 40], 5 -> [0C 4D 00 00], 6 -> [53 6F 75 74 68]}   |{1 -> [02 00 00 00 00 00 00 00], 2 -> [66 00 00 00 00 00 00 00], 3 -> [50 65 6E 64 69 6E 67], 4 -> [00 00 00 00 00 20 59 40], 5 -> [0C 4D 00 00], 6 -> [53 6F 75 74 68]}   |NULL        |[4]          |NULL        |0            |{{40, 1, 0, NULL, 102, 102}, {36, 1, 0, NULL, 2024-01-02, 2024-01-02}, {40, 1, 0, NULL, 2, 2}, {43, 1, 0, NULL, Pending, Pending}, {41, 1, 0, NULL, South, South}, {40, 1, 0, 0, 100.5, 100.5}}  |\n",
      "|0      |gs://gks-tpch/iceberg_warehouse/partdemo/orders/data/region=North/00000-1600-cd7b46c1-8fbd-4d5c-84c4-1eae5bde9795-0-00001.parquet|PARQUET    |0      |{North}  |1           |1724              |{1 -> 40, 2 -> 40, 3 -> 43, 4 -> 40, 5 -> 36, 6 -> 41}|{1 -> 1, 2 -> 1, 3 -> 1, 4 -> 1, 5 -> 1, 6 -> 1}|{1 -> 0, 2 -> 0, 3 -> 0, 4 -> 0, 5 -> 0, 6 -> 0}|{4 -> 0}        |{1 -> [01 00 00 00 00 00 00 00], 2 -> [65 00 00 00 00 00 00 00], 3 -> [53 68 69 70 70 65 64], 4 -> [00 00 00 00 00 58 6F 40], 5 -> [0B 4D 00 00], 6 -> [4E 6F 72 74 68]}   |{1 -> [01 00 00 00 00 00 00 00], 2 -> [65 00 00 00 00 00 00 00], 3 -> [53 68 69 70 70 65 64], 4 -> [00 00 00 00 00 58 6F 40], 5 -> [0B 4D 00 00], 6 -> [4E 6F 72 74 68]}   |NULL        |[4]          |NULL        |0            |{{40, 1, 0, NULL, 101, 101}, {36, 1, 0, NULL, 2024-01-01, 2024-01-01}, {40, 1, 0, NULL, 1, 1}, {43, 1, 0, NULL, Shipped, Shipped}, {41, 1, 0, NULL, North, North}, {40, 1, 0, 0, 250.75, 250.75}}|\n",
      "|0      |gs://gks-tpch/iceberg_warehouse/partdemo/orders/data/region=East/00000-1600-cd7b46c1-8fbd-4d5c-84c4-1eae5bde9795-0-00003.parquet |PARQUET    |0      |{East}   |1           |1730              |{1 -> 40, 2 -> 40, 3 -> 45, 4 -> 39, 5 -> 36, 6 -> 40}|{1 -> 1, 2 -> 1, 3 -> 1, 4 -> 1, 5 -> 1, 6 -> 1}|{1 -> 0, 2 -> 0, 3 -> 0, 4 -> 0, 5 -> 0, 6 -> 0}|{4 -> 0}        |{1 -> [03 00 00 00 00 00 00 00], 2 -> [67 00 00 00 00 00 00 00], 3 -> [43 61 6E 63 65 6C 6C 65 64], 4 -> [00 00 00 00 00 C0 72 40], 5 -> [0D 4D 00 00], 6 -> [45 61 73 74]}|{1 -> [03 00 00 00 00 00 00 00], 2 -> [67 00 00 00 00 00 00 00], 3 -> [43 61 6E 63 65 6C 6C 65 64], 4 -> [00 00 00 00 00 C0 72 40], 5 -> [0D 4D 00 00], 6 -> [45 61 73 74]}|NULL        |[4]          |NULL        |0            |{{40, 1, 0, NULL, 103, 103}, {36, 1, 0, NULL, 2024-01-03, 2024-01-03}, {40, 1, 0, NULL, 3, 3}, {45, 1, 0, NULL, Cancelled, Cancelled}, {40, 1, 0, NULL, East, East}, {39, 1, 0, 0, 300.0, 300.0}}|\n",
      "+-------+---------------------------------------------------------------------------------------------------------------------------------+-----------+-------+---------+------------+------------------+------------------------------------------------------+------------------------------------------------+------------------------------------------------+----------------+---------------------------------------------------------------------------------------------------------------------------------------------------------------------------+---------------------------------------------------------------------------------------------------------------------------------------------------------------------------+------------+-------------+------------+-------------+-------------------------------------------------------------------------------------------------------------------------------------------------------------------------------------------------+\n",
      "\n"
     ]
    },
    {
     "name": "stderr",
     "output_type": "stream",
     "text": [
      "                                                                                \r"
     ]
    }
   ],
   "source": [
    "spark.sql(\"SELECT * FROM iceberg.partdemo.orders.files\").show(truncate=False)"
   ]
  },
  {
   "cell_type": "code",
   "execution_count": 23,
   "id": "4378fddd-682f-4f39-9e56-af974785f1d0",
   "metadata": {
    "tags": []
   },
   "outputs": [
    {
     "name": "stdout",
     "output_type": "stream",
     "text": [
      "+---------+\n",
      "|partition|\n",
      "+---------+\n",
      "|   {West}|\n",
      "|  {North}|\n",
      "|   {East}|\n",
      "|  {South}|\n",
      "+---------+\n",
      "\n"
     ]
    }
   ],
   "source": [
    "spark.sql(\"SELECT DISTINCT partition FROM iceberg.partdemo.orders.files\").show()"
   ]
  },
  {
   "cell_type": "code",
   "execution_count": 24,
   "id": "b07c10c0-2806-4472-b778-c391b283b86a",
   "metadata": {
    "tags": []
   },
   "outputs": [
    {
     "name": "stderr",
     "output_type": "stream",
     "text": [
      "[Stage 74:>                                                         (0 + 1) / 1]\r"
     ]
    },
    {
     "name": "stdout",
     "output_type": "stream",
     "text": [
      "+--------+-----------+------------+-----------+----------+------+\n",
      "|order_id|customer_id|order_status|total_price|order_date|region|\n",
      "+--------+-----------+------------+-----------+----------+------+\n",
      "|       4|        104|     Shipped|      175.2|2024-01-04|  West|\n",
      "|       2|        102|     Pending|      100.5|2024-01-02| South|\n",
      "|       1|        101|     Shipped|     250.75|2024-01-01| North|\n",
      "|       3|        103|   Cancelled|      300.0|2024-01-03|  East|\n",
      "+--------+-----------+------------+-----------+----------+------+\n",
      "\n"
     ]
    },
    {
     "name": "stderr",
     "output_type": "stream",
     "text": [
      "                                                                                \r"
     ]
    }
   ],
   "source": [
    "spark.sql(\"SELECT * FROM iceberg.partdemo.orders\").show()"
   ]
  },
  {
   "cell_type": "code",
   "execution_count": 25,
   "id": "5640ac15-b221-42d6-9f20-4b9dfe0d8f32",
   "metadata": {
    "tags": []
   },
   "outputs": [
    {
     "data": {
      "text/plain": [
       "DataFrame[]"
      ]
     },
     "execution_count": 25,
     "metadata": {},
     "output_type": "execute_result"
    }
   ],
   "source": [
    "spark.sql(\"\"\"\n",
    "UPDATE iceberg.partdemo.orders \n",
    "SET region = 'West' \n",
    "WHERE region = 'South'\n",
    "\"\"\")"
   ]
  },
  {
   "cell_type": "code",
   "execution_count": 26,
   "id": "518e4e3d-2ef4-4fbe-9dd1-33d62d4a339f",
   "metadata": {
    "tags": []
   },
   "outputs": [
    {
     "name": "stdout",
     "output_type": "stream",
     "text": [
      "+--------+-----------+------------+-----------+----------+------+\n",
      "|order_id|customer_id|order_status|total_price|order_date|region|\n",
      "+--------+-----------+------------+-----------+----------+------+\n",
      "|       2|        102|     Pending|      100.5|2024-01-02|  West|\n",
      "|       4|        104|     Shipped|      175.2|2024-01-04|  West|\n",
      "|       1|        101|     Shipped|     250.75|2024-01-01| North|\n",
      "|       3|        103|   Cancelled|      300.0|2024-01-03|  East|\n",
      "+--------+-----------+------------+-----------+----------+------+\n",
      "\n"
     ]
    }
   ],
   "source": [
    "spark.sql(\"SELECT * FROM iceberg.partdemo.orders\").show()"
   ]
  },
  {
   "cell_type": "code",
   "execution_count": 27,
   "id": "d806cce4-47be-403d-bddc-20226d7b0890",
   "metadata": {
    "tags": []
   },
   "outputs": [
    {
     "name": "stdout",
     "output_type": "stream",
     "text": [
      "+---------+\n",
      "|partition|\n",
      "+---------+\n",
      "|   {West}|\n",
      "|  {North}|\n",
      "|   {East}|\n",
      "+---------+\n",
      "\n"
     ]
    }
   ],
   "source": [
    "spark.sql(\"SELECT DISTINCT partition FROM iceberg.partdemo.orders.files\").show()"
   ]
  },
  {
   "cell_type": "code",
   "execution_count": 28,
   "id": "3219911a-dc15-4adc-90ae-fc3844bf0204",
   "metadata": {
    "tags": []
   },
   "outputs": [],
   "source": [
    "spark.stop()"
   ]
  },
  {
   "cell_type": "code",
   "execution_count": null,
   "id": "0fd4f9ec-0a10-4ced-ada7-2b4d71f9c8eb",
   "metadata": {},
   "outputs": [],
   "source": []
  }
 ],
 "metadata": {
  "kernelspec": {
   "display_name": "Python 3",
   "language": "python",
   "name": "python3"
  },
  "language_info": {
   "codemirror_mode": {
    "name": "ipython",
    "version": 3
   },
   "file_extension": ".py",
   "mimetype": "text/x-python",
   "name": "python",
   "nbconvert_exporter": "python",
   "pygments_lexer": "ipython3",
   "version": "3.11.8"
  }
 },
 "nbformat": 4,
 "nbformat_minor": 5
}
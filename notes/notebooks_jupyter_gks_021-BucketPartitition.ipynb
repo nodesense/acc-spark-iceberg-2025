{
 "cells": [
  {
   "cell_type": "code",
   "execution_count": 1,
   "id": "868ebba5-c356-493e-99b7-40a3e11ccc37",
   "metadata": {
    "tags": []
   },
   "outputs": [
    {
     "name": "stderr",
     "output_type": "stream",
     "text": [
      "Setting default log level to \"WARN\".\n",
      "To adjust logging level use sc.setLogLevel(newLevel). For SparkR, use setLogLevel(newLevel).\n",
      "25/02/07 01:36:53 INFO SparkEnv: Registering MapOutputTracker\n",
      "25/02/07 01:36:54 INFO SparkEnv: Registering BlockManagerMaster\n",
      "25/02/07 01:36:54 INFO SparkEnv: Registering BlockManagerMasterHeartbeat\n",
      "25/02/07 01:36:54 INFO SparkEnv: Registering OutputCommitCoordinator\n"
     ]
    }
   ],
   "source": [
    "from pyspark.sql import SparkSession\n",
    "from pyspark.sql.functions import col, window, count, avg, sum, to_date, to_timestamp\n",
    "\n",
    "# Initialize Spark Session\n",
    "spark = SparkSession.builder \\\n",
    "    .appName(\"BucketPartition\") \\\n",
    "    .master(\"yarn\") \\\n",
    "    .config(\"spark.submit.deployMode\", \"client\") \\\n",
    "    .config(\"spark.sql.shuffle.partitions\", \"4\") \\\n",
    "    .config(\"spark.sql.catalog.iceberg\", \"org.apache.iceberg.spark.SparkCatalog\")\\\n",
    "    .config(\"spark.sql.catalog.iceberg.type\", \"hadoop\")\\\n",
    "    .config(\"spark.sql.catalog.iceberg.warehouse\", \"gs://gks-tpch/iceberg_warehouse\")\\\n",
    "    .getOrCreate()"
   ]
  },
  {
   "cell_type": "code",
   "execution_count": null,
   "id": "bee42728-7a16-4d20-a52b-b97111f103bd",
   "metadata": {},
   "outputs": [],
   "source": [
    "\"\"\"\n",
    "Bucket partitioning helps distribute data evenly across partitions based on a hashing function, \n",
    "which is useful when dealing with high-cardinality columns like customer_id.\n",
    "\"\"\""
   ]
  },
  {
   "cell_type": "code",
   "execution_count": 2,
   "id": "0e0e2a76-37df-4ad3-b1eb-33b022a7aba4",
   "metadata": {
    "tags": []
   },
   "outputs": [
    {
     "data": {
      "text/plain": [
       "DataFrame[]"
      ]
     },
     "execution_count": 2,
     "metadata": {},
     "output_type": "execute_result"
    }
   ],
   "source": [
    "spark.sql(\"CREATE DATABASE IF NOT EXISTS iceberg.partdemo\")"
   ]
  },
  {
   "cell_type": "code",
   "execution_count": 3,
   "id": "322ae6f1-9aac-4017-b2c4-45f98bd492c0",
   "metadata": {
    "tags": []
   },
   "outputs": [
    {
     "data": {
      "text/plain": [
       "DataFrame[]"
      ]
     },
     "execution_count": 3,
     "metadata": {},
     "output_type": "execute_result"
    }
   ],
   "source": [
    "# BUCKET(4, customer_id): Customer IDs will be bucketed into 4 buckets, distributing rows evenly\n",
    "\n",
    "spark.sql (\"\"\"\n",
    "CREATE TABLE iceberg.partdemo.orders_bucket (\n",
    "    order_id BIGINT,\n",
    "    customer_id BIGINT,\n",
    "    order_status STRING,\n",
    "    total_price DOUBLE,\n",
    "    order_date DATE,\n",
    "    region STRING\n",
    ") USING iceberg\n",
    "PARTITIONED BY (region, BUCKET(4, customer_id))\n",
    "\"\"\")"
   ]
  },
  {
   "cell_type": "code",
   "execution_count": 4,
   "id": "b9290bf4-5c6a-40ea-9693-5e6eafa26144",
   "metadata": {
    "tags": []
   },
   "outputs": [
    {
     "name": "stderr",
     "output_type": "stream",
     "text": [
      "                                                                                \r"
     ]
    },
    {
     "data": {
      "text/plain": [
       "DataFrame[]"
      ]
     },
     "execution_count": 4,
     "metadata": {},
     "output_type": "execute_result"
    }
   ],
   "source": [
    "spark.sql(\n",
    "    \"\"\"\n",
    "    INSERT INTO iceberg.partdemo.orders_bucket VALUES\n",
    "(1, 101, 'Shipped', 250.75, CAST('2024-01-01' AS DATE), 'North'),\n",
    "(2, 102, 'Pending', 100.50, CAST('2024-01-02' AS DATE), 'South'),\n",
    "(3, 103, 'Cancelled', 300.00, CAST('2024-01-03' AS DATE), 'East'),\n",
    "(4, 104, 'Shipped', 175.20, CAST('2024-01-04' AS DATE), 'West'),\n",
    "(5, 105, 'Processing', 150.00, CAST('2024-02-01' AS DATE), 'North');\n",
    "\"\"\")"
   ]
  },
  {
   "cell_type": "code",
   "execution_count": 5,
   "id": "baff37f6-4947-4416-aec5-90f8b0fb16cc",
   "metadata": {
    "tags": []
   },
   "outputs": [
    {
     "name": "stderr",
     "output_type": "stream",
     "text": [
      "                                                                                \r"
     ]
    },
    {
     "name": "stdout",
     "output_type": "stream",
     "text": [
      "+--------+-----------+------------+-----------+----------+------+\n",
      "|order_id|customer_id|order_status|total_price|order_date|region|\n",
      "+--------+-----------+------------+-----------+----------+------+\n",
      "|       1|        101|     Shipped|     250.75|2024-01-01| North|\n",
      "|       5|        105|  Processing|      150.0|2024-02-01| North|\n",
      "+--------+-----------+------------+-----------+----------+------+\n",
      "\n"
     ]
    }
   ],
   "source": [
    "spark.sql(\"\"\"\n",
    "SELECT * FROM iceberg.partdemo.orders_bucket WHERE region='North'\n",
    "\"\"\").show()"
   ]
  },
  {
   "cell_type": "code",
   "execution_count": 6,
   "id": "3307eb55-03b0-4a69-a6fc-19ebbf987a4b",
   "metadata": {
    "tags": []
   },
   "outputs": [
    {
     "name": "stdout",
     "output_type": "stream",
     "text": [
      "+----------+--------------------+\n",
      "| partition|           file_path|\n",
      "+----------+--------------------+\n",
      "|{South, 0}|gs://gks-tpch/ice...|\n",
      "|{North, 0}|gs://gks-tpch/ice...|\n",
      "| {West, 0}|gs://gks-tpch/ice...|\n",
      "| {East, 3}|gs://gks-tpch/ice...|\n",
      "+----------+--------------------+\n",
      "\n"
     ]
    }
   ],
   "source": [
    "spark.sql(\"\"\"\n",
    "SELECT partition, file_path \n",
    "FROM iceberg.partdemo.orders_bucket.files\n",
    "\"\"\").show()"
   ]
  },
  {
   "cell_type": "code",
   "execution_count": 8,
   "id": "ae36a926-d330-4e7e-89ec-dca56f4b415a",
   "metadata": {
    "tags": []
   },
   "outputs": [
    {
     "name": "stdout",
     "output_type": "stream",
     "text": [
      "+----------+--------------------+\n",
      "| partition|           file_path|\n",
      "+----------+--------------------+\n",
      "| {West, 0}|gs://gks-tpch/ice...|\n",
      "|{North, 0}|gs://gks-tpch/ice...|\n",
      "| {West, 0}|gs://gks-tpch/ice...|\n",
      "| {East, 3}|gs://gks-tpch/ice...|\n",
      "+----------+--------------------+\n",
      "\n"
     ]
    }
   ],
   "source": [
    "spark.sql(\"\"\"\n",
    "SELECT partition, file_path \n",
    "FROM iceberg.partdemo.orders_bucket.files\n",
    "\"\"\").show()"
   ]
  },
  {
   "cell_type": "code",
   "execution_count": 9,
   "id": "7e7cff27-95ad-4208-a473-963d904ff9a8",
   "metadata": {
    "tags": []
   },
   "outputs": [
    {
     "name": "stdout",
     "output_type": "stream",
     "text": [
      "++\n",
      "||\n",
      "++\n",
      "++\n",
      "\n"
     ]
    }
   ],
   "source": [
    "#  Iceberg automatically manages partition metadata, so you can update partition columns without manually handling partitions.\n",
    "spark.sql(\n",
    "\"\"\"\n",
    "UPDATE iceberg.partdemo.orders_bucket \n",
    "SET region = 'West' \n",
    "WHERE region = 'South'\n",
    "\"\"\").show()"
   ]
  },
  {
   "cell_type": "code",
   "execution_count": 10,
   "id": "cb123d3c-238e-4ecf-a027-d32143e3d84b",
   "metadata": {
    "tags": []
   },
   "outputs": [
    {
     "data": {
      "text/plain": [
       "DataFrame[]"
      ]
     },
     "execution_count": 10,
     "metadata": {},
     "output_type": "execute_result"
    }
   ],
   "source": [
    "#  Iceberg does not move files physically, but the data might be redistributed in a new bucket.\n",
    "spark.sql(\"\"\"\n",
    "UPDATE iceberg.partdemo.orders_bucket \n",
    "SET customer_id = 110 \n",
    "WHERE customer_id = 105\n",
    "\"\"\")"
   ]
  },
  {
   "cell_type": "code",
   "execution_count": 11,
   "id": "078f5ec4-5f15-4933-9114-688dcff652af",
   "metadata": {
    "tags": []
   },
   "outputs": [
    {
     "name": "stdout",
     "output_type": "stream",
     "text": [
      "+----------+--------------------+\n",
      "| partition|           file_path|\n",
      "+----------+--------------------+\n",
      "|{North, 0}|gs://gks-tpch/ice...|\n",
      "|{North, 2}|gs://gks-tpch/ice...|\n",
      "| {West, 0}|gs://gks-tpch/ice...|\n",
      "| {West, 0}|gs://gks-tpch/ice...|\n",
      "| {East, 3}|gs://gks-tpch/ice...|\n",
      "+----------+--------------------+\n",
      "\n"
     ]
    }
   ],
   "source": [
    "spark.sql(\"\"\"\n",
    "SELECT partition, file_path \n",
    "FROM iceberg.partdemo.orders_bucket.files\n",
    "\"\"\").show()"
   ]
  },
  {
   "cell_type": "code",
   "execution_count": 12,
   "id": "c2c41c03-491c-4ecd-9f68-5ebb32d1a729",
   "metadata": {
    "tags": []
   },
   "outputs": [
    {
     "data": {
      "text/plain": [
       "DataFrame[]"
      ]
     },
     "execution_count": 12,
     "metadata": {},
     "output_type": "execute_result"
    }
   ],
   "source": [
    "# Deletes are metadata-based, so Iceberg does not physically delete files immediately.\n",
    "\n",
    "\n",
    "spark.sql(\n",
    "\"\"\"\n",
    "    DELETE FROM iceberg.partdemo.orders_bucket WHERE order_id = 3\n",
    "\"\"\")"
   ]
  },
  {
   "cell_type": "code",
   "execution_count": 13,
   "id": "1ec27861-8a85-447e-87ad-4734dea6108d",
   "metadata": {
    "tags": []
   },
   "outputs": [
    {
     "name": "stdout",
     "output_type": "stream",
     "text": [
      "+--------------------+-------------------+-------------------+-------------------+\n",
      "|     made_current_at|        snapshot_id|          parent_id|is_current_ancestor|\n",
      "+--------------------+-------------------+-------------------+-------------------+\n",
      "|2025-02-07 01:38:...|7684064402365346734|               NULL|               true|\n",
      "|2025-02-07 01:40:...| 766112837030824669|7684064402365346734|               true|\n",
      "|2025-02-07 01:41:...|6952680204985605665| 766112837030824669|               true|\n",
      "|2025-02-07 01:41:...| 198893602058254204|6952680204985605665|               true|\n",
      "|2025-02-07 01:42:...|6750072295676235037| 198893602058254204|               true|\n",
      "+--------------------+-------------------+-------------------+-------------------+\n",
      "\n"
     ]
    }
   ],
   "source": [
    "spark.sql(\"\"\"\n",
    "SELECT * FROM iceberg.partdemo.orders_bucket.history\n",
    "\"\"\").show()"
   ]
  },
  {
   "cell_type": "code",
   "execution_count": 14,
   "id": "ab94804b-b292-4fc2-b54a-17c1554d7345",
   "metadata": {
    "tags": []
   },
   "outputs": [
    {
     "name": "stdout",
     "output_type": "stream",
     "text": [
      "+--------------------+-------------------+\n",
      "|previous_snapshot_id|current_snapshot_id|\n",
      "+--------------------+-------------------+\n",
      "| 6750072295676235037| 766112837030824669|\n",
      "+--------------------+-------------------+\n",
      "\n"
     ]
    }
   ],
   "source": [
    "spark.sql(\"\"\"\n",
    "CALL iceberg.system.rollback_to_snapshot('iceberg.partdemo.orders_bucket', 766112837030824669)\n",
    "\"\"\").show()"
   ]
  },
  {
   "cell_type": "code",
   "execution_count": 15,
   "id": "e9c158a8-0286-44fb-ad6f-3ba290785284",
   "metadata": {
    "tags": []
   },
   "outputs": [
    {
     "name": "stdout",
     "output_type": "stream",
     "text": [
      "+--------+-----------+------------+-----------+----------+------+\n",
      "|order_id|customer_id|order_status|total_price|order_date|region|\n",
      "+--------+-----------+------------+-----------+----------+------+\n",
      "|       2|        102|     Pending|      100.5|2024-01-02|  West|\n",
      "|       1|        101|     Shipped|     250.75|2024-01-01| North|\n",
      "|       5|        105|  Processing|      150.0|2024-02-01| North|\n",
      "|       4|        104|     Shipped|      175.2|2024-01-04|  West|\n",
      "|       3|        103|   Cancelled|      300.0|2024-01-03|  East|\n",
      "+--------+-----------+------------+-----------+----------+------+\n",
      "\n"
     ]
    },
    {
     "name": "stderr",
     "output_type": "stream",
     "text": [
      "                                                                                \r"
     ]
    }
   ],
   "source": [
    "spark.sql(\"\"\"\n",
    "SELECT * FROM iceberg.partdemo.orders_bucket\n",
    "\"\"\").show()"
   ]
  },
  {
   "cell_type": "code",
   "execution_count": 16,
   "id": "5cf1c658-6827-4743-9c67-666cbdb4fc80",
   "metadata": {
    "tags": []
   },
   "outputs": [],
   "source": [
    "spark.stop()"
   ]
  },
  {
   "cell_type": "code",
   "execution_count": null,
   "id": "46251001-f853-485e-b551-bb54f8728c1e",
   "metadata": {},
   "outputs": [],
   "source": []
  }
 ],
 "metadata": {
  "kernelspec": {
   "display_name": "Python 3",
   "language": "python",
   "name": "python3"
  },
  "language_info": {
   "codemirror_mode": {
    "name": "ipython",
    "version": 3
   },
   "file_extension": ".py",
   "mimetype": "text/x-python",
   "name": "python",
   "nbconvert_exporter": "python",
   "pygments_lexer": "ipython3",
   "version": "3.11.8"
  }
 },
 "nbformat": 4,
 "nbformat_minor": 5
}
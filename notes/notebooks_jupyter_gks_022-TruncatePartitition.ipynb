{
 "cells": [
  {
   "cell_type": "code",
   "execution_count": 1,
   "id": "321fff5e-214b-4291-883f-aa338f25ed75",
   "metadata": {
    "tags": []
   },
   "outputs": [
    {
     "name": "stderr",
     "output_type": "stream",
     "text": [
      "Setting default log level to \"WARN\".\n",
      "To adjust logging level use sc.setLogLevel(newLevel). For SparkR, use setLogLevel(newLevel).\n",
      "25/02/07 01:51:53 INFO SparkEnv: Registering MapOutputTracker\n",
      "25/02/07 01:51:53 INFO SparkEnv: Registering BlockManagerMaster\n",
      "25/02/07 01:51:53 INFO SparkEnv: Registering BlockManagerMasterHeartbeat\n",
      "25/02/07 01:51:53 INFO SparkEnv: Registering OutputCommitCoordinator\n"
     ]
    }
   ],
   "source": [
    "from pyspark.sql import SparkSession\n",
    "from pyspark.sql.functions import col, window, count, avg, sum, to_date, to_timestamp\n",
    "\n",
    "# Initialize Spark Session\n",
    "spark = SparkSession.builder \\\n",
    "    .appName(\"TruncatePartition\") \\\n",
    "    .master(\"yarn\") \\\n",
    "    .config(\"spark.submit.deployMode\", \"client\") \\\n",
    "    .config(\"spark.sql.shuffle.partitions\", \"4\") \\\n",
    "    .config(\"spark.sql.catalog.iceberg\", \"org.apache.iceberg.spark.SparkCatalog\")\\\n",
    "    .config(\"spark.sql.catalog.iceberg.type\", \"hadoop\")\\\n",
    "    .config(\"spark.sql.catalog.iceberg.warehouse\", \"gs://gks-tpch/iceberg_warehouse\")\\\n",
    "    .getOrCreate()"
   ]
  },
  {
   "cell_type": "code",
   "execution_count": 2,
   "id": "2b3e0fdc-06ba-41aa-a147-16df1d954270",
   "metadata": {
    "tags": []
   },
   "outputs": [
    {
     "data": {
      "text/plain": [
       "'\\nTruncate few characters in the column value for partititions like product code, serial number etc\\n'"
      ]
     },
     "execution_count": 2,
     "metadata": {},
     "output_type": "execute_result"
    }
   ],
   "source": [
    "\"\"\"\n",
    "Truncate few characters in the column value for partititions like product code, serial number etc\n",
    "\"\"\""
   ]
  },
  {
   "cell_type": "code",
   "execution_count": 3,
   "id": "f0167180-2b42-4bda-9e40-20a170911e15",
   "metadata": {
    "tags": []
   },
   "outputs": [
    {
     "data": {
      "text/plain": [
       "DataFrame[]"
      ]
     },
     "execution_count": 3,
     "metadata": {},
     "output_type": "execute_result"
    }
   ],
   "source": [
    "spark.sql(\"\"\"\n",
    "CREATE TABLE iceberg.partdemo.products (\n",
    "    product_id BIGINT,\n",
    "    product_code STRING,\n",
    "    product_name STRING,\n",
    "    category STRING,\n",
    "    price DOUBLE\n",
    ") USING iceberg\n",
    "PARTITIONED BY (TRUNCATE(4, product_code))\n",
    "\"\"\")"
   ]
  },
  {
   "cell_type": "code",
   "execution_count": 4,
   "id": "1fd82398-e029-4d93-9e31-e91b8172d424",
   "metadata": {
    "tags": []
   },
   "outputs": [
    {
     "name": "stderr",
     "output_type": "stream",
     "text": [
      "                                                                                \r"
     ]
    },
    {
     "data": {
      "text/plain": [
       "DataFrame[]"
      ]
     },
     "execution_count": 4,
     "metadata": {},
     "output_type": "execute_result"
    }
   ],
   "source": [
    "\"\"\"\n",
    " Electronics products (ELEC123, ELEC456) will be stored under partition ELEC.\n",
    " Home appliances (HOME789, HOME567) will be stored under partition HOME.\n",
    " Fashion (FASH001) gets its own partition (FASH).\n",
    "\"\"\"\n",
    "\n",
    "spark.sql(\"\"\"\n",
    "INSERT INTO iceberg.partdemo.products VALUES\n",
    "(1, 'ELEC123', 'Smartphone', 'Electronics', 499.99),\n",
    "(2, 'ELEC456', 'Laptop', 'Electronics', 999.99),\n",
    "(3, 'HOME789', 'Vacuum Cleaner', 'Home Appliances', 199.99),\n",
    "(4, 'HOME567', 'Air Purifier', 'Home Appliances', 299.99),\n",
    "(5, 'FASH001', 'Sneakers', 'Fashion', 79.99);\n",
    "\"\"\")"
   ]
  },
  {
   "cell_type": "code",
   "execution_count": 5,
   "id": "d44f9b2a-eecb-479e-b247-3f88868ebca9",
   "metadata": {
    "tags": []
   },
   "outputs": [
    {
     "name": "stderr",
     "output_type": "stream",
     "text": [
      "                                                                                \r"
     ]
    },
    {
     "name": "stdout",
     "output_type": "stream",
     "text": [
      "+----------+------------+------------+-----------+------+\n",
      "|product_id|product_code|product_name|   category| price|\n",
      "+----------+------------+------------+-----------+------+\n",
      "|         1|     ELEC123|  Smartphone|Electronics|499.99|\n",
      "|         2|     ELEC456|      Laptop|Electronics|999.99|\n",
      "+----------+------------+------------+-----------+------+\n",
      "\n"
     ]
    }
   ],
   "source": [
    "# Partition Pruning\n",
    "# Only scans products under the ELEC partition (Partition Pruning).\n",
    "\n",
    "spark.sql(\"\"\"\n",
    "SELECT * FROM iceberg.partdemo.products WHERE product_code LIKE 'ELEC%';\n",
    "\"\"\").show()"
   ]
  },
  {
   "cell_type": "code",
   "execution_count": 6,
   "id": "db457f5c-61e1-4e38-9758-5366fbf1dc8b",
   "metadata": {
    "tags": []
   },
   "outputs": [
    {
     "name": "stdout",
     "output_type": "stream",
     "text": [
      "+---------+--------------------+\n",
      "|partition|           file_path|\n",
      "+---------+--------------------+\n",
      "|   {ELEC}|gs://gks-tpch/ice...|\n",
      "|   {HOME}|gs://gks-tpch/ice...|\n",
      "|   {FASH}|gs://gks-tpch/ice...|\n",
      "+---------+--------------------+\n",
      "\n"
     ]
    }
   ],
   "source": [
    "spark.sql(\"\"\"\n",
    "SELECT partition, file_path FROM iceberg.partdemo.products.files;\n",
    "\"\"\").show()"
   ]
  },
  {
   "cell_type": "code",
   "execution_count": 7,
   "id": "bda07504-ad50-43f8-a74d-2eef4dcf3fc2",
   "metadata": {
    "tags": []
   },
   "outputs": [
    {
     "name": "stderr",
     "output_type": "stream",
     "text": [
      "                                                                                \r"
     ]
    },
    {
     "data": {
      "text/plain": [
       "DataFrame[]"
      ]
     },
     "execution_count": 7,
     "metadata": {},
     "output_type": "execute_result"
    }
   ],
   "source": [
    "spark.sql(\"\"\"\n",
    "UPDATE iceberg.partdemo.products \n",
    "SET product_code = 'ELEC999' \n",
    "WHERE product_id = 1;\n",
    "\"\"\")"
   ]
  },
  {
   "cell_type": "code",
   "execution_count": 8,
   "id": "9bc38742-b189-44f9-b9de-ee4e7d15e03a",
   "metadata": {
    "tags": []
   },
   "outputs": [
    {
     "name": "stdout",
     "output_type": "stream",
     "text": [
      "+---------+--------------------+\n",
      "|partition|           file_path|\n",
      "+---------+--------------------+\n",
      "|   {ELEC}|gs://gks-tpch/ice...|\n",
      "|   {HOME}|gs://gks-tpch/ice...|\n",
      "|   {FASH}|gs://gks-tpch/ice...|\n",
      "+---------+--------------------+\n",
      "\n"
     ]
    }
   ],
   "source": [
    "spark.sql(\"\"\"\n",
    "SELECT partition, file_path FROM iceberg.partdemo.products.files;\n",
    "\"\"\").show()"
   ]
  },
  {
   "cell_type": "code",
   "execution_count": 9,
   "id": "6c92ab69-8ba2-44bc-8ea5-f80f857ae7f0",
   "metadata": {
    "tags": []
   },
   "outputs": [
    {
     "data": {
      "text/plain": [
       "DataFrame[]"
      ]
     },
     "execution_count": 9,
     "metadata": {},
     "output_type": "execute_result"
    }
   ],
   "source": [
    "spark.sql(\"\"\"\n",
    "DELETE FROM iceberg.partdemo.products WHERE product_code = 'HOME789';\n",
    "\"\"\")"
   ]
  },
  {
   "cell_type": "code",
   "execution_count": 11,
   "id": "bd6c4e28-5c08-4edc-ad52-3192d7923022",
   "metadata": {
    "tags": []
   },
   "outputs": [
    {
     "name": "stdout",
     "output_type": "stream",
     "text": [
      "+--------------------+-------------------+-------------------+-------------------+\n",
      "|     made_current_at|        snapshot_id|          parent_id|is_current_ancestor|\n",
      "+--------------------+-------------------+-------------------+-------------------+\n",
      "|2025-02-07 01:53:...| 917093135482276915|               NULL|               true|\n",
      "|2025-02-07 01:54:...|6860277881744466835| 917093135482276915|               true|\n",
      "|2025-02-07 01:54:...|4632508004002034742|6860277881744466835|               true|\n",
      "+--------------------+-------------------+-------------------+-------------------+\n",
      "\n"
     ]
    }
   ],
   "source": [
    "spark.sql(\"\"\"\n",
    "SELECT * FROM iceberg.partdemo.products.history;\n",
    "\"\"\").show()"
   ]
  },
  {
   "cell_type": "code",
   "execution_count": 13,
   "id": "a57f7474-4289-42e3-b6b5-fe63fb246fb7",
   "metadata": {
    "tags": []
   },
   "outputs": [
    {
     "data": {
      "text/plain": [
       "DataFrame[previous_snapshot_id: bigint, current_snapshot_id: bigint]"
      ]
     },
     "execution_count": 13,
     "metadata": {},
     "output_type": "execute_result"
    }
   ],
   "source": [
    "spark.sql(\"\"\"\n",
    "CALL iceberg.system.rollback_to_snapshot('iceberg.partdemo.products', 6860277881744466835)\n",
    "\"\"\")"
   ]
  },
  {
   "cell_type": "code",
   "execution_count": 14,
   "id": "276ae846-31d8-411b-a46b-007079b494d3",
   "metadata": {
    "tags": []
   },
   "outputs": [
    {
     "name": "stdout",
     "output_type": "stream",
     "text": [
      "+--------------------+-------------------+-------------------+-------------------+\n",
      "|     made_current_at|        snapshot_id|          parent_id|is_current_ancestor|\n",
      "+--------------------+-------------------+-------------------+-------------------+\n",
      "|2025-02-07 01:53:...| 917093135482276915|               NULL|               true|\n",
      "|2025-02-07 01:54:...|6860277881744466835| 917093135482276915|               true|\n",
      "|2025-02-07 01:54:...|4632508004002034742|6860277881744466835|              false|\n",
      "|2025-02-07 01:55:...|6860277881744466835| 917093135482276915|               true|\n",
      "+--------------------+-------------------+-------------------+-------------------+\n",
      "\n"
     ]
    }
   ],
   "source": [
    "spark.sql(\"\"\"\n",
    "SELECT * FROM iceberg.partdemo.products.history;\n",
    "\"\"\").show()"
   ]
  },
  {
   "cell_type": "code",
   "execution_count": 15,
   "id": "6664ba20-deb0-46d5-8f18-1fef097aaad3",
   "metadata": {
    "tags": []
   },
   "outputs": [
    {
     "name": "stdout",
     "output_type": "stream",
     "text": [
      "+----------+------------+--------------+---------------+------+\n",
      "|product_id|product_code|  product_name|       category| price|\n",
      "+----------+------------+--------------+---------------+------+\n",
      "|         1|     ELEC999|    Smartphone|    Electronics|499.99|\n",
      "|         2|     ELEC456|        Laptop|    Electronics|999.99|\n",
      "|         3|     HOME789|Vacuum Cleaner|Home Appliances|199.99|\n",
      "|         4|     HOME567|  Air Purifier|Home Appliances|299.99|\n",
      "|         5|     FASH001|      Sneakers|        Fashion| 79.99|\n",
      "+----------+------------+--------------+---------------+------+\n",
      "\n"
     ]
    }
   ],
   "source": [
    "spark.sql(\"\"\"\n",
    "SELECT * FROM iceberg.partdemo.products;\n",
    "\"\"\").show()"
   ]
  },
  {
   "cell_type": "code",
   "execution_count": 16,
   "id": "69022ec1-fcea-469b-b3d0-548e34df1634",
   "metadata": {
    "tags": []
   },
   "outputs": [],
   "source": [
    "spark.stop()"
   ]
  },
  {
   "cell_type": "code",
   "execution_count": null,
   "id": "1b8a70ac-74bd-4502-98d8-b352ffd6cb9d",
   "metadata": {},
   "outputs": [],
   "source": []
  }
 ],
 "metadata": {
  "kernelspec": {
   "display_name": "Python 3",
   "language": "python",
   "name": "python3"
  },
  "language_info": {
   "codemirror_mode": {
    "name": "ipython",
    "version": 3
   },
   "file_extension": ".py",
   "mimetype": "text/x-python",
   "name": "python",
   "nbconvert_exporter": "python",
   "pygments_lexer": "ipython3",
   "version": "3.11.8"
  }
 },
 "nbformat": 4,
 "nbformat_minor": 5
}